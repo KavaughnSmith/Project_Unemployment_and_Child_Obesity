{
 "cells": [
  {
   "cell_type": "code",
   "execution_count": 2,
   "metadata": {
    "collapsed": false
   },
   "outputs": [
    {
     "name": "stdout",
     "output_type": "stream",
     "text": [
      "ascii\n",
      "       Dates         Unemployment Rate London(%)  Unemployment Rate England(%)     Child Obesity London(%)        Child Obesity England(%)      Child Overweight London(%)    Child Overweight England (%) \n",
      " Jan 2007-Dec 2007            6.9000                    5.2000                        21.6000                        18.3000                        36.3000                        32.6000\n",
      " Jan 2008-Dec 2008            7.0000                    5.8000                        21.3000                        18.3000                        36.0000                        32.6000\n",
      " Jan 2009-Dec 2009            9.2000                    7.7000                        21.8000                        18.7000                        36.9000                        33.3000\n",
      " Jan 2010-Dec 2010            8.9000                    8.1000                        21.9000                        19.0000                        37.0000                        33.4000\n",
      " Jan 2011-Dec 2011            9.5000                    8.0000                        22.5000                        19.2000                        37.5000                        33.9000\n",
      " Jan 2012-Dec 2012            9.2000                    7.9000                        22.4000                        18.9000                        37.4000                        33.3000\n",
      " Jan 2013-Dec 2013            8.7000                    7.5000                        23.4000                        19.1000                        37.6000                        33.5000\n",
      " Jan 2014-Dec 2014            7.0000                    6.2000                        22.6000                        19.1000                        37.2000                        33.3000\n",
      " Jan 2015-Dec 2015            6.1000                    5.1000                        23.2000                        19.8000                        38.1000                        34.1000\n",
      " Jan 2016-Dec 2016            5.6000                    4.8000                        23.6000                        20.0000                        38.4000                        38.5000\n",
      " Jan 2017-Dec 2017            5.3000                    4.4000                        23.1000                        20.1000                        37.7000                        34.3000\n",
      " Jan 2018-Dec 2018            5.0000                    4.1000                        23.2000                        20.2000                        37.9000                        34.3000\n",
      " Jan 2019-Dec 2019            4.6000                    3.9000                        23.7000                        21.0000                        38.3000                        35.1000\n"
     ]
    }
   ],
   "source": [
    "import numpy as np\n",
    "import matplotlib.pyplot as plt\n",
    "import csv\n",
    "import chardet\n",
    "\n",
    "\n",
    "\n",
    "\"\"\"\"\"readData\"\"\"\"\"\n",
    "rawdata = open(\"annual-unemployment-region-update.csv\", 'rb').read()\n",
    "result = chardet.detect(rawdata)\n",
    "charenc = result['encoding']\n",
    "print(charenc)\n",
    "\n",
    "file_1 ='annual-unemployment-region-update.csv'\n",
    "file_1_cols = [0,1,2]\n",
    "file_1_result = []\n",
    "\n",
    "file_2 = 'Year6-obesity-prevalence.csv'\n",
    "file_2_cols = [0,1,2,3,4]\n",
    "file_2_result = []\n",
    "\n",
    "\n",
    "with open(file_1,encoding=charenc) as csvfile:\n",
    "    reader = csv.reader(csvfile, delimiter=',', quotechar='|')\n",
    "    for row in reader:\n",
    "        file_1_result.append([row[i] for i in file_1_cols])\n",
    "        \n",
    "with open(file_2,encoding=charenc) as csvfile:\n",
    "    reader = csv.reader(csvfile, delimiter=',', quotechar='|')\n",
    "    for row in reader:\n",
    "        file_2_result.append([row[i] for i in file_2_cols])\n",
    "\n",
    "combinedresult = []\n",
    "\n",
    "for line1 in file_1_result:\n",
    "    for line2 in file_2_result:\n",
    "        if line1[0] == line2[0] and line1[0]:\n",
    "            combinedresult.append(line1+line2[1:])\n",
    "\n",
    "\n",
    "#\n",
    "common_dates = []\n",
    "\n",
    "unemployment_rate_london = []\n",
    "child_obesity_london = []\n",
    "child_overweight_london = []\n",
    "unemployment_rate_england = []\n",
    "child_obesity_england = []\n",
    "child_overweight_england = []\n",
    "unemployment_rate_uk = []\n",
    "\n",
    "\n",
    "for line in combinedresult[1:]:\n",
    "    #print(line)\n",
    "    common_dates.append(line[0])\n",
    "    unemployment_rate_london.append(float(line[1]))\n",
    "    unemployment_rate_england.append(float(line[2]))\n",
    "    child_obesity_london.append(float(line[3]))\n",
    "    child_obesity_england.append(float(line[4]))\n",
    "    child_overweight_london.append(float(line[5]))\n",
    "    child_overweight_england.append(float(line[6]))\n",
    "\n",
    "\n",
    "common_dates = np.array(common_dates)\n",
    "\n",
    "unemployment_rate_london = np.array(unemployment_rate_london)\n",
    "child_obesity_london = np.array(child_obesity_london)\n",
    "child_overweight_london = np.array(child_overweight_london)\n",
    "unemployment_rate_england = np.array(unemployment_rate_england)\n",
    "child_obesity_england = np.array(child_obesity_england)\n",
    "child_overweight_england = np.array(child_overweight_england)\n",
    "\n",
    "\n",
    "\n",
    "print((\"{:^20s} {:^25s} {:^30s} {:^30s} {:^30s} {:^30s} {:^30s}\").format(\"Dates\", \"Unemployment Rate London(%)\", \"Unemployment Rate England(%)\", \"Child Obesity London(%)\", \"Child Obesity England(%)\", \"Child Overweight London(%)\", \"Child Overweight England (%)\"))\n",
    "for i in range(len(common_dates)):\n",
    "      print((\"{:^20s} {:15.4f} {:25.4f} {:30.4f} {:30.4f} {:30.4f} {:30.4f}\").format(common_dates[i], unemployment_rate_london[i], unemployment_rate_england[i], child_obesity_london[i], child_obesity_england[i],  child_overweight_london[i],  child_overweight_england[i]))\n"
   ]
  },
  {
   "cell_type": "code",
   "execution_count": 3,
   "metadata": {
    "collapsed": false
   },
   "outputs": [
    {
     "data": {
      "image/png": "[encoded data removed]",
      "text/plain": "<Figure size 864x504 with 1 Axes>"
     },
     "metadata": {
      "image/png": {
       "height": 526,
       "width": 710
      },
      "needs_background": "light"
     },
     "output_type": "execute_result"
    }
   ],
   "source": [
    "# Time Series Plot for Unemployment Rate\n",
    "# London and England\n",
    "\n",
    "import numpy as np\n",
    "import matplotlib.pyplot as plt\n",
    "\n",
    "plt.figure()\n",
    "\n",
    "labels = common_dates\n",
    "x = common_dates\n",
    "y1 = unemployment_rate_london\n",
    "y2 = unemployment_rate_england\n",
    "\n",
    "\n",
    "plt.plot(x, y1, marker='o',label=\"Unemployment Rate (London)\", color='red')\n",
    "plt.plot(x, y2, marker='+',label=\"Unemployment Rate (England)\", color='green')\n",
    "\n",
    "# Labelling \n",
    "plt.xlabel(\"Dates\")\n",
    "plt.xticks(rotation = 90)\n",
    "plt.ylabel(\"Unemployment Rate (%)\")\n",
    "plt.title(\"Time Series Graph for Unemployment Rate of London and England (2007-2019)\")\n",
    "plt.legend()\n",
    "\n",
    "# Display\n",
    "plt.show()\n",
    "\n"
   ]
  },
  {
   "cell_type": "code",
   "execution_count": 3,
   "metadata": {
    "collapsed": false
   },
   "outputs": [
    {
     "data": {
      "image/png": "[encoded data removed]",
      "text/plain": "<Figure size 864x504 with 1 Axes>"
     },
     "metadata": {
      "image/png": {
       "height": 526,
       "width": 717
      },
      "needs_background": "light"
     },
     "output_type": "execute_result"
    }
   ],
   "source": [
    "# Time Series Plot for Child Obesity Prevalence\n",
    "# London and England\n",
    "\n",
    "import numpy as np\n",
    "import matplotlib.pyplot as plt\n",
    "\n",
    "plt.figure()\n",
    "\n",
    "labels = common_dates\n",
    "x = common_dates\n",
    "y1 = child_obesity_london\n",
    "y2 = child_obesity_england\n",
    "\n",
    "\n",
    "plt.plot(x, y1, marker='o',label=\"Child Obesity (London\", color='red')\n",
    "plt.plot(x, y2, marker='+',label=\"Child Obesity (England)\", color='green')\n",
    "\n",
    "# Labelling \n",
    "plt.xlabel(\"Dates\")\n",
    "plt.xticks(rotation = 90)\n",
    "plt.ylabel(\"Child Obesity Prevalence (%)\")\n",
    "plt.title(\"Time Series Graph for Child Obesity Prevelance of London and England (2007-2019)\")\n",
    "plt.legend()\n",
    "\n",
    "# Display\n",
    "plt.show()\n",
    "\n"
   ]
  },
  {
   "cell_type": "code",
   "execution_count": 4,
   "metadata": {
    "collapsed": false
   },
   "outputs": [
    {
     "data": {
      "image/png": "[encoded data removed]",
      "text/plain": "<Figure size 864x504 with 1 Axes>"
     },
     "metadata": {
      "image/png": {
       "height": 526,
       "width": 717
      },
      "needs_background": "light"
     },
     "output_type": "execute_result"
    }
   ],
   "source": [
    "# Time Series Plot for Child Overweight Prevalence (includes everything overweight and above)\n",
    "# London and England\n",
    "\n",
    "import numpy as np\n",
    "import matplotlib.pyplot as plt\n",
    "\n",
    "plt.figure()\n",
    "\n",
    "labels = common_dates\n",
    "x = common_dates\n",
    "y1 = child_overweight_london\n",
    "y2 = child_overweight_england\n",
    "\n",
    "\n",
    "plt.plot(x, y1, marker='o',label=\"Child Overweight Prevalence (London\", color='red')\n",
    "plt.plot(x, y2, marker='+',label=\"Child Overweight Prevalence (England)\", color='green')\n",
    "\n",
    "# Labelling \n",
    "plt.xlabel(\"Dates\")\n",
    "plt.xticks(rotation = 90)\n",
    "plt.ylabel(\"Child Overweight Prevalence (%)\")\n",
    "plt.title(\"Time Series Graph for Child Overweight Prevalence of London and England (2007-2019)\")\n",
    "plt.legend()\n",
    "\n",
    "# Display\n",
    "plt.show()\n",
    "\n"
   ]
  },
  {
   "cell_type": "code",
   "execution_count": 4,
   "metadata": {
    "collapsed": false
   },
   "outputs": [
    {
     "data": {
      "image/png": "[encoded data removed]",
      "text/plain": "<Figure size 864x504 with 2 Axes>"
     },
     "metadata": {
      "image/png": {
       "height": 526,
       "width": 753
      },
      "needs_background": "light"
     },
     "output_type": "execute_result"
    }
   ],
   "source": [
    "# TESTING GRAPHS\n",
    "\n",
    "#subplots method provides a way to plot multiple plots on a single figure.\n",
    "#ax1 and ax2 can be named anything.\n",
    "\n",
    "import numpy as np\n",
    "import matplotlib.pyplot as plt\n",
    "\n",
    "fig, ax1 = plt.subplots();\n",
    "ax1.set_xlabel(\"Months of year/Dates\")\n",
    "ax1.set_ylabel(\"Unemployment Rate (London)\")\n",
    "ax1.set_title(\"Unemployment rate (London) compared with Child Obesity (London)\")\n",
    "\n",
    "ax1.plot(common_dates, unemployment_rate_london)\n",
    "ax1.plot(common_dates, unemployment_rate_london, marker='o', label='Unemployment rate London')\n",
    "plt.xticks(rotation=90)\n",
    "ax1.legend()\n",
    "\n",
    "ax2 = ax1.twinx();\n",
    "ax2.set_ylabel(\"Child Obesity (London)\")\n",
    "ax2.plot(child_obesity_london,'b')\n",
    "ax2.plot(child_obesity_london, marker='+',label='Child Obesity (London)')\n",
    "ax2.legend()\n",
    "\n",
    "plt.show()"
   ]
  },
  {
   "cell_type": "code",
   "execution_count": 5,
   "metadata": {
    "collapsed": false
   },
   "outputs": [
    {
     "name": "stdout",
     "output_type": "stream",
     "text": [
      "-0.2604145328908739\n",
      "24.501427042988556\n"
     ]
    },
    {
     "data": {
      "image/png": "[encoded data removed]",
      "text/plain": "<Figure size 864x504 with 1 Axes>"
     },
     "metadata": {
      "image/png": {
       "height": 440,
       "width": 726
      },
      "needs_background": "light"
     },
     "output_type": "execute_result"
    }
   ],
   "source": [
    "#KAVAUGHN'S TESTING LINEAR REGRESSION AND SCATTER PLOT\n",
    "\n",
    "def linear_regression(x, y):\n",
    "    meanx = np.mean(x)\n",
    "    meany = np.mean(y)\n",
    "    sigmax  = np.std(x)\n",
    "    sigmay  = np.std(y)\n",
    "    sigmaxy = np.sum(np.multiply(x-meanx,y-meany))/(len(x)-1)\n",
    "    m = sigmaxy/(sigmax*sigmax) \n",
    "    q = meany-m*meanx\n",
    "    return m,q\n",
    "\n",
    "x = unemployment_rate_london\n",
    "y = child_obesity_london\n",
    "lin_reg_m_tot, lin_reg_g_tot = linear_regression(x,y)\n",
    "print(lin_reg_m_tot)\n",
    "print(lin_reg_g_tot)\n",
    "\n",
    "#--------------------------------------------------------------------------\n",
    "#Scatter plot with line of best fit.\n",
    "\n",
    "plt.figure()\n",
    "\n",
    "lin_reg_m_tot, lin_reg_q_tot = linear_regression(unemployment_rate_london, child_obesity_london)\n",
    "y_tot = unemployment_rate_london*lin_reg_m_tot+lin_reg_q_tot\n",
    "plt.plot(unemployment_rate_london, y_tot, label=\"Lin. Reg. Full Range\",color ='r')\n",
    "plt.legend()\n",
    "\n",
    "plt.scatter(unemployment_rate_london, child_obesity_london)\n",
    "\n",
    "\n",
    "plt.xlabel(\"Unemployment rate (London)\")\n",
    "plt.ylabel(\"Child Obesity (London)\")\n",
    "plt.title(\"Scatter Pot of Unemployment rate (London) in Comparison to Child Obesity (London)\")\n",
    "\n",
    "plt.show()\n"
   ]
  },
  {
   "cell_type": "code",
   "execution_count": 6,
   "metadata": {
    "collapsed": false
   },
   "outputs": [
    {
     "name": "stdout",
     "output_type": "stream",
     "text": [
      "Covariance: -0.7522435897435904   Unemployment rate per Child obseity (London)\n",
      "\n",
      "Correlation Coefficient: -0.5318656802873091\n"
     ]
    }
   ],
   "source": [
    "#KAVAUGHN'S CORRELATION COEFFICIENT AND COVARIANCE\n",
    "\n",
    "x = unemployment_rate_london\n",
    "y = child_obesity_london\n",
    "\n",
    "def correlation_coefficient(x,y):\n",
    "    meanx   = np.mean(x)\n",
    "    meany   = np.mean(y)\n",
    "    sigmax  = np.std(x)\n",
    "    sigmay  = np.std(y)\n",
    "    sigmaxy = np.sum(np.multiply(x-meanx,y-meany))/(len(x)-1)\n",
    "    correlation = sigmaxy/(sigmax*sigmay)\n",
    "    return correlation\n",
    "\n",
    "def calc_covariance(unemployment_rate_london, child_obesity_london):\n",
    "    meanx   = np.mean(unemployment_rate_london)\n",
    "    meany   = np.mean(child_obesity_london)\n",
    "    mean_xy = (meanx*meany)\n",
    "    x_times_y = (unemployment_rate_london*child_obesity_london)\n",
    "    mean_of_xy = np.mean(x_times_y)\n",
    "    covariance = mean_of_xy - mean_xy\n",
    "    return covariance\n",
    "\n",
    "\n",
    "#lprint(correlation_coefficient(cycle_counts,road_disruption))\n",
    "#lprint(calc_covariance(cycle_counts,road_disruption))\n",
    "\n",
    "child_unemployment_covariance = np.cov(child_obesity_london,unemployment_rate_london)[1][0]\n",
    "cor_cof = np.corrcoef(unemployment_rate_london,child_obesity_london)[1][0]\n",
    "\n",
    "print(\"Covariance:\",child_unemployment_covariance,\"  Unemployment rate per Child obseity (London)\")\n",
    "print()\n",
    "print(\"Correlation Coefficient:\", cor_cof)\n"
   ]
  },
  {
   "cell_type": "code",
   "execution_count": 7,
   "metadata": {
    "collapsed": false
   },
   "outputs": [
    {
     "data": {
      "image/png": "[encoded data removed]",
      "text/plain": "<Figure size 864x504 with 1 Axes>"
     },
     "metadata": {
      "image/png": {
       "height": 467,
       "width": 737
      },
      "needs_background": "light"
     },
     "output_type": "execute_result"
    }
   ],
   "source": [
    "# MOVING AVERAGE GRAPH\n",
    "#moving averages graph - Child obesity compared to unemployment rate \n",
    "\n",
    "x = unemployment_rate_london\n",
    "y = child_obesity_london\n",
    "\n",
    "\n",
    "def moving_average(x, w):\n",
    "    return np.convolve(x, np.ones(w), 'valid') / w\n",
    "\n",
    "unemployment_rate_london = np.array(unemployment_rate_london)\n",
    "child_obesity_london = np.array(child_obesity_london)\n",
    "unemployment_rate_london_ma = moving_average(unemployment_rate_london,3)\n",
    "child_obesity_london_ma = moving_average(child_obesity_london,3)\n",
    "\n",
    "plt.figure()\n",
    "plt.plot(unemployment_rate_london_ma)\n",
    "plt.plot(child_obesity_london_ma)\n",
    "plt.plot(unemployment_rate_london_ma, marker='+',label='Unemployment Rate (London) (Moving average)',color = 'red')\n",
    "plt.plot(child_obesity_london_ma, marker='+',label='Child Obesity (London) (Moving average)',color = 'purple')\n",
    "\n",
    "plt.xlabel(\"Months of year/Dates\")\n",
    "plt.ylabel(\"Unemployment Rate (London) (Moving average)/Child Obesity (London) (Moving average)\")\n",
    "plt.title(\"Diagram comparing Unemployment Rate (London) (Moving average) and Child Obesity (London) (Moving average)\")\n",
    "\n",
    "\n",
    "plt.legend()\n",
    "\n",
    "plt.show()\n"
   ]
  },
  {
   "cell_type": "code",
   "execution_count": 8,
   "metadata": {
    "collapsed": false
   },
   "outputs": [
    {
     "data": {
      "image/png": "[encoded data removed]",
      "text/plain": "<Figure size 864x504 with 2 Axes>"
     },
     "metadata": {
      "image/png": {
       "height": 526,
       "width": 753
      },
      "needs_background": "light"
     },
     "output_type": "execute_result"
    }
   ],
   "source": [
    "# Comparison for correlation of unemployment (London) and overweight (London)\n",
    "\n",
    "\n",
    "import numpy as np\n",
    "import matplotlib.pyplot as plt\n",
    "\n",
    "fig, ax1 = plt.subplots();\n",
    "ax1.set_xlabel(\"Months of year/Dates\")\n",
    "ax1.set_ylabel(\"Unemployment Rate (London)\")\n",
    "ax1.set_title(\"Unemployment rate (London) compared with Child Overweight (London)\")\n",
    "\n",
    "ax1.plot(common_dates, unemployment_rate_london)\n",
    "ax1.plot(common_dates, unemployment_rate_london, marker='o', color= 'skyblue', label='Unemployment rate London')\n",
    "plt.xticks(rotation=90)\n",
    "ax1.legend()\n",
    "\n",
    "ax2 = ax1.twinx();\n",
    "ax2.set_ylabel(\"Child Overweight (London)\")\n",
    "ax2.plot(child_overweight_london,'b')\n",
    "ax2.plot(child_overweight_london, marker='+', color= 'plum', label='Child Overweight (London)')\n",
    "ax2.legend()\n",
    "\n",
    "plt.show()"
   ]
  },
  {
   "cell_type": "code",
   "execution_count": 9,
   "metadata": {
    "collapsed": false
   },
   "outputs": [
    {
     "name": "stdout",
     "output_type": "stream",
     "text": [
      "-0.2604145328908739\n",
      "24.501427042988556\n"
     ]
    },
    {
     "data": {
      "image/png": "[encoded data removed]",
      "text/plain": "<Figure size 864x504 with 1 Axes>"
     },
     "metadata": {
      "image/png": {
       "height": 440,
       "width": 726
      },
      "needs_background": "light"
     },
     "output_type": "execute_result"
    }
   ],
   "source": [
    "# Linear regression and scatter plots for unemployment (London) and overweight (London)\n",
    "\n",
    "\n",
    "def linear_regression(x, y):\n",
    "    meanx = np.mean(x)\n",
    "    meany = np.mean(y)\n",
    "    sigmax  = np.std(x)\n",
    "    sigmay  = np.std(y)\n",
    "    sigmaxy = np.sum(np.multiply(x-meanx,y-meany))/(len(x)-1)\n",
    "    m = sigmaxy/(sigmax*sigmax) \n",
    "    q = meany-m*meanx\n",
    "    return m,q\n",
    "\n",
    "x = unemployment_rate_london\n",
    "y = child_overweight_london\n",
    "lin_reg_m_tot1, lin_reg_g_tot1 = linear_regression(x,y)\n",
    "print(lin_reg_m_tot)\n",
    "print(lin_reg_g_tot)\n",
    "\n",
    "\n",
    "plt.figure()\n",
    "\n",
    "lin_reg_m_tot1, lin_reg_q_tot1 = linear_regression(unemployment_rate_london, child_overweight_london)\n",
    "y_tot1 = unemployment_rate_london*lin_reg_m_tot1+lin_reg_q_tot1\n",
    "plt.plot(unemployment_rate_london, y_tot1, label=\"Lin. Reg. Full Range\",color ='violet')\n",
    "plt.legend()\n",
    "\n",
    "plt.scatter(unemployment_rate_london, child_overweight_london, color ='skyblue')\n",
    "\n",
    "\n",
    "plt.xlabel(\"Unemployment rate (London)\")\n",
    "plt.ylabel(\"Child Overweight (London)\")\n",
    "plt.title(\"Scatter Pot of Unemployment rate (London) in Comparison to Child Overweight (London)\")\n",
    "\n",
    "plt.show()"
   ]
  },
  {
   "cell_type": "code",
   "execution_count": 10,
   "metadata": {
    "collapsed": false
   },
   "outputs": [
    {
     "name": "stdout",
     "output_type": "stream",
     "text": [
      "Covariance: -0.5729487179487178   Unemployment rate per Child overweight (London)\n",
      "\n",
      "Correlation Coefficient: -0.4466737968980724\n",
      "Covariance: -0.5288757396448887   Unemployment rate per Child overweight (London)\n",
      "\n",
      "Correlation Coefficient: -0.4838966133062452\n"
     ]
    }
   ],
   "source": [
    "# Correlation coefficient and covariance of unemployment (London) and overweight (London) \n",
    "\n",
    "import numpy as np\n",
    "def correlation_coefficient(x,y):\n",
    "    meanx   = np.mean(x)\n",
    "    meany   = np.mean(y)\n",
    "    sigmax  = np.std(x)\n",
    "    sigmay  = np.std(y)\n",
    "    sigmaxy = np.sum(np.multiply(x-meanx,y-meany))/(len(x)-1)\n",
    "    correlation = sigmaxy/(sigmax*sigmay)\n",
    "    return correlation\n",
    "\n",
    "def calc_covariance(unemployment_rate_london, child_overweight_london):\n",
    "    meanx   = np.mean(unemployment_rate_london)\n",
    "    meany   = np.mean(child_overweight_london)\n",
    "    mean_xy = (meanx*meany)\n",
    "    x_times_y = (unemployment_rate_london*child_overweight_london)\n",
    "    mean_of_xy = np.mean(x_times_y)\n",
    "    covariance = mean_of_xy - mean_xy\n",
    "    return covariance\n",
    "\n",
    "x = unemployment_rate_london\n",
    "y = child_overweight_london\n",
    "\n",
    "\n",
    "child_unemployment_covariance = np.cov(child_overweight_london,unemployment_rate_london)[1][0]\n",
    "cor_cof = np.corrcoef(unemployment_rate_london,child_overweight_london)[1][0]\n",
    "\n",
    "print(\"Covariance:\",child_unemployment_covariance,\"  Unemployment rate per Child overweight (London)\")\n",
    "print()\n",
    "print(\"Correlation Coefficient:\", cor_cof)\n",
    "\n",
    "\n",
    "child_unemployment_covariance2 = calc_covariance(unemployment_rate_london, child_overweight_london)\n",
    "cor_cof2 = correlation_coefficient(unemployment_rate_london,child_overweight_london)\n",
    "\n",
    "print(\"Covariance:\",child_unemployment_covariance2,\"  Unemployment rate per Child overweight (London)\")\n",
    "print()\n",
    "print(\"Correlation Coefficient:\", cor_cof2)"
   ]
  },
  {
   "cell_type": "code",
   "execution_count": 10,
   "metadata": {
    "collapsed": false
   },
   "outputs": [
    {
     "data": {
      "image/png": "[encoded data removed]",
      "text/plain": "<Figure size 864x504 with 1 Axes>"
     },
     "metadata": {
      "image/png": {
       "height": 487,
       "width": 739
      },
      "needs_background": "light"
     },
     "output_type": "execute_result"
    }
   ],
   "source": [
    "# Moving average of unemployment (London) and child overweight (London)\n",
    "\n",
    "x = unemployment_rate_london\n",
    "y = child_overweight_london\n",
    "\n",
    "def moving_average(x, w):\n",
    "    return np.convolve(x, np.ones(w), 'valid') / w\n",
    "\n",
    "unemployment_rate_london = np.array(unemployment_rate_london)\n",
    "child_obesity_london = np.array(child_overweight_london)\n",
    "unemployment_rate_london_ma = moving_average(unemployment_rate_london,3)\n",
    "child_overweight_london_ma = moving_average(child_overweight_london,3)\n",
    "\n",
    "plt.figure()\n",
    "plt.plot(unemployment_rate_london_ma)\n",
    "plt.plot(child_overweight_london_ma)\n",
    "plt.plot(unemployment_rate_london_ma, marker='+',label='Unemployment Rate (London) (Moving average)',color = 'skyblue')\n",
    "plt.plot(child_overweight_london_ma, marker='+',label='Child Overweight (London) (Moving average)',color = 'violet')\n",
    "\n",
    "plt.xlabel(\"Months of year/Dates\")\n",
    "plt.ylabel(\"Unemployment Rate (London) (Moving average)/Child Overweight (London) (Moving average)\")\n",
    "plt.title(\"Diagram comparing Unemployment Rate (London) (Moving average) and Child Overweight (London) (Moving average)\")\n",
    "\n",
    "\n",
    "plt.legend()\n",
    "\n",
    "plt.show()"
   ]
  },
  {
   "cell_type": "code",
   "execution_count": 11,
   "metadata": {
    "collapsed": false
   },
   "outputs": [
    {
     "data": {
      "image/png": "[encoded data removed]",
      "text/plain": "<Figure size 864x504 with 2 Axes>"
     },
     "metadata": {
      "image/png": {
       "height": 526,
       "width": 744
      },
      "needs_background": "light"
     },
     "output_type": "execute_result"
    }
   ],
   "source": [
    "# Comparision for correlation of unemployment (England) and overweight (England)\n",
    "\n",
    "\n",
    "import numpy as np\n",
    "import matplotlib.pyplot as plt\n",
    "\n",
    "fig, ax1 = plt.subplots();\n",
    "ax1.set_xlabel(\"Months of year/Dates\")\n",
    "ax1.set_ylabel(\"Unemployment Rate (England)\")\n",
    "ax1.set_title(\"Unemployment rate (England) compared with Child Overweight (England)\")\n",
    "\n",
    "ax1.plot(common_dates, unemployment_rate_england)\n",
    "ax1.plot(common_dates, unemployment_rate_england, marker='o', color= 'skyblue', label='Unemployment rate England')\n",
    "plt.xticks(rotation=90)\n",
    "ax1.legend()\n",
    "\n",
    "ax2 = ax1.twinx();\n",
    "ax2.set_ylabel(\"Child Overweight (England)\")\n",
    "ax2.plot(child_overweight_england,'b')\n",
    "ax2.plot(child_overweight_england, marker='+', color= 'plum', label='Child Overweight (England)')\n",
    "ax2.legend()\n",
    "\n",
    "plt.show()"
   ]
  },
  {
   "cell_type": "code",
   "execution_count": 12,
   "metadata": {
    "collapsed": false
   },
   "outputs": [
    {
     "name": "stdout",
     "output_type": "stream",
     "text": [
      "-0.4355177141328524\n",
      "36.651941854019654\n"
     ]
    },
    {
     "data": {
      "image/png": "[encoded data removed]",
      "text/plain": "<Figure size 864x504 with 1 Axes>"
     },
     "metadata": {
      "image/png": {
       "height": 440,
       "width": 717
      },
      "needs_background": "light"
     },
     "output_type": "execute_result"
    }
   ],
   "source": [
    "# Linear regression and scatter plots for unemployment (England) and overweight (England)\n",
    "\n",
    "\n",
    "def linear_regression(x, y):\n",
    "    meanx = np.mean(x)\n",
    "    meany = np.mean(y)\n",
    "    sigmax  = np.std(x)\n",
    "    sigmay  = np.std(y)\n",
    "    sigmaxy = np.sum(np.multiply(x-meanx,y-meany))/(len(x)-1)\n",
    "    m = sigmaxy/(sigmax*sigmax) \n",
    "    q = meany-m*meanx\n",
    "    return m,q\n",
    "\n",
    "x = unemployment_rate_england\n",
    "y = child_overweight_england\n",
    "\n",
    "lin_reg_m_tot2, lin_reg_g_tot2 = linear_regression(x,y)\n",
    "print(lin_reg_m_tot2)\n",
    "print(lin_reg_g_tot2)\n",
    "\n",
    "\n",
    "plt.figure()\n",
    "\n",
    "lin_reg_m_tot2, lin_reg_q_tot2 = linear_regression(unemployment_rate_england, child_overweight_england)\n",
    "y_tot2 = unemployment_rate_england*lin_reg_m_tot2+lin_reg_q_tot2\n",
    "plt.plot(unemployment_rate_england, y_tot2, label=\"Lin. Reg. Full Range\",color ='violet')\n",
    "plt.legend()\n",
    "\n",
    "plt.scatter(unemployment_rate_england, child_overweight_england, color ='skyblue')\n",
    "\n",
    "\n",
    "plt.xlabel(\"Unemployment rate (England)\")\n",
    "plt.ylabel(\"Child Overweight (England)\")\n",
    "plt.title(\"Scatter Pot of Unemployment rate (England) in Comparison to Child Overweight (England)\")\n",
    "\n",
    "plt.show()"
   ]
  },
  {
   "cell_type": "code",
   "execution_count": 13,
   "metadata": {
    "collapsed": false
   },
   "outputs": [
    {
     "name": "stdout",
     "output_type": "stream",
     "text": [
      "Covariance: -1.0275641025641036   Unemployment rate per Child overweight (England)\n",
      "\n",
      "Correlation Coefficient: -0.42336505988271944\n",
      "Covariance: -0.9485207100592277   Unemployment rate per Child overweight (England)\n",
      "\n",
      "Correlation Coefficient: -0.4586454815396129\n"
     ]
    }
   ],
   "source": [
    "# Correlation coefficient and covariance of unemployment (England) and overweight (England) \n",
    "\n",
    "x = unemployment_rate_england\n",
    "y = child_overweight_england\n",
    "\n",
    "import numpy as np\n",
    "def correlation_coefficient(x,y):\n",
    "    meanx   = np.mean(x)\n",
    "    meany   = np.mean(y)\n",
    "    sigmax  = np.std(x)\n",
    "    sigmay  = np.std(y)\n",
    "    sigmaxy = np.sum(np.multiply(x-meanx,y-meany))/(len(x)-1)\n",
    "    correlation = sigmaxy/(sigmax*sigmay)\n",
    "    return correlation\n",
    "\n",
    "def calc_covariance(unemployment_rate_england, child_overweight_england):\n",
    "    meanx   = np.mean(unemployment_rate_england)\n",
    "    meany   = np.mean(child_overweight_england)\n",
    "    mean_xy = (meanx*meany)\n",
    "    x_times_y = (unemployment_rate_england*child_overweight_england)\n",
    "    mean_of_xy = np.mean(x_times_y)\n",
    "    covariance = mean_of_xy - mean_xy\n",
    "    return covariance\n",
    "\n",
    "\n",
    "\n",
    "child_unemployment_covariance = np.cov(child_overweight_england,unemployment_rate_england)[1][0]\n",
    "cor_cof = np.corrcoef(unemployment_rate_england,child_overweight_england)[1][0]\n",
    "\n",
    "print(\"Covariance:\",child_unemployment_covariance,\"  Unemployment rate per Child overweight (England)\")\n",
    "print()\n",
    "print(\"Correlation Coefficient:\", cor_cof)\n",
    "\n",
    "child_unemployment_covariance3 = calc_covariance(unemployment_rate_england, child_overweight_england)\n",
    "cor_cof3 = correlation_coefficient(unemployment_rate_england,child_overweight_england)\n",
    "\n",
    "print(\"Covariance:\",child_unemployment_covariance3,\"  Unemployment rate per Child overweight (England)\")\n",
    "print()\n",
    "print(\"Correlation Coefficient:\", cor_cof3)"
   ]
  },
  {
   "cell_type": "code",
   "execution_count": 39,
   "metadata": {
    "collapsed": false,
    "scrolled": true
   },
   "outputs": [
    {
     "data": {
      "image/png": "[encoded data removed]",
      "text/plain": "<Figure size 864x504 with 1 Axes>"
     },
     "metadata": {
      "image/png": {
       "height": 494,
       "width": 743
      },
      "needs_background": "light"
     },
     "output_type": "execute_result"
    }
   ],
   "source": [
    "# Moving average of unemployment (England) and child overweight (England)\n",
    "\n",
    "def moving_average(x, w):\n",
    "    return np.convolve(x, np.ones(w), 'valid') / w\n",
    "\n",
    "unemployment_rate_england = np.array(unemployment_rate_england)\n",
    "child_obesity_england = np.array(child_overweight_england)\n",
    "unemployment_rate_england_ma = moving_average(unemployment_rate_england,3)\n",
    "child_overweight_england_ma = moving_average(child_overweight_england,3)\n",
    "\n",
    "plt.figure()\n",
    "plt.plot(unemployment_rate_england_ma)\n",
    "plt.plot(child_overweight_england_ma)\n",
    "plt.plot(unemployment_rate_england_ma, marker='+',label='Unemployment Rate (England) (Moving average)',color = 'skyblue')\n",
    "plt.plot(child_overweight_england_ma, marker='+',label='Child Overweight (England) (Moving average)',color = 'violet')\n",
    "\n",
    "plt.xlabel(\"Months of year/Dates\")\n",
    "plt.ylabel(\"Unemployment Rate (England) (Moving average)/Child Overweight (England) (Moving average)\")\n",
    "plt.title(\"Diagram comparing Unemployment Rate (England) (Moving average) and Child Overweight (England) (Moving average)\")\n",
    "\n",
    "\n",
    "plt.legend()\n",
    "\n",
    "plt.show()"
   ]
  },
  {
   "cell_type": "code",
   "execution_count": 15,
   "metadata": {
    "collapsed": false
   },
   "outputs": [
    {
     "data": {
      "image/png": "[encoded data removed]",
      "text/plain": "<Figure size 864x504 with 2 Axes>"
     },
     "metadata": {
      "image/png": {
       "height": 526,
       "width": 753
      },
      "needs_background": "light"
     },
     "output_type": "execute_result"
    }
   ],
   "source": [
    "import numpy as np\n",
    "import matplotlib.pyplot as plt\n",
    "\n",
    "fig, ax1 = plt.subplots();\n",
    "ax1.set_xlabel(\"Months of year/Dates\")\n",
    "ax1.set_ylabel(\"Unemployment Rate (England)\")\n",
    "ax1.set_title(\"Unemployment rate (England) compared with Child Obesity (England)\")\n",
    "\n",
    "ax1.plot(common_dates, unemployment_rate_england)\n",
    "ax1.plot(common_dates, unemployment_rate_england, marker='o', label='Unemployment rate England')\n",
    "plt.xticks(rotation=90)\n",
    "ax1.legend()\n",
    "\n",
    "ax2 = ax1.twinx();\n",
    "ax2.set_ylabel(\"Child Obesity (England)\")\n",
    "ax2.plot(child_obesity_england,'r')\n",
    "ax2.plot(child_obesity_england, marker='+',label='Child Obesity (England)')\n",
    "ax2.legend()\n",
    "\n",
    "plt.show()"
   ]
  },
  {
   "cell_type": "code",
   "execution_count": 16,
   "metadata": {
    "collapsed": false
   },
   "outputs": [
    {
     "name": "stdout",
     "output_type": "stream",
     "text": [
      "-0.4355177141328524\n",
      "36.651941854019654\n"
     ]
    },
    {
     "data": {
      "image/png": "[encoded data removed]",
      "text/plain": "<Figure size 864x504 with 1 Axes>"
     },
     "metadata": {
      "image/png": {
       "height": 440,
       "width": 726
      },
      "needs_background": "light"
     },
     "output_type": "execute_result"
    }
   ],
   "source": [
    "# Linear Regression and scatter plots for unemployment (England) and obesity (England)\n",
    "\n",
    "\n",
    "\n",
    "def linear_regression(x, y):\n",
    "    meanx = np.mean(x)\n",
    "    meany = np.mean(y)\n",
    "    sigmax  = np.std(x)\n",
    "    sigmay  = np.std(y)\n",
    "    sigmaxy = np.sum(np.multiply(x-meanx,y-meany))/(len(x)-1)\n",
    "    m = sigmaxy/(sigmax*sigmax) \n",
    "    q = meany-m*meanx\n",
    "    return m,q\n",
    "\n",
    "\n",
    "lin_reg_m_tot9, lin_reg_g_tot9 = linear_regression(x,y)\n",
    "print(lin_reg_m_tot9)\n",
    "print(lin_reg_g_tot9)\n",
    "\n",
    "#--------------------------------------------------------------------------\n",
    "#Scatter plot with line of best fit.\n",
    "\n",
    "x = unemployment_rate_england\n",
    "y = child_obesity_england\n",
    "\n",
    "lin_reg_m_tot3, lin_reg_q_tot3 = linear_regression(x, y)\n",
    "y_tot3 = (x*lin_reg_m_tot3)+lin_reg_q_tot3\n",
    "plt.plot(x, y_tot3, label=\"Lin. Reg. Full Range\",color ='r')\n",
    "plt.legend()\n",
    "\n",
    "plt.scatter(x, y)\n",
    "\n",
    "\n",
    "plt.xlabel(\"Unemployment rate (England)\")\n",
    "plt.ylabel(\"Child Obesity (England)\")\n",
    "plt.title(\"Scatter Plot of Unemployment rate (England) in Comparison to Child Obesity (England)\")\n",
    "\n",
    "plt.show()\n",
    "\n",
    "\n"
   ]
  },
  {
   "cell_type": "code",
   "execution_count": 17,
   "metadata": {
    "collapsed": false
   },
   "outputs": [
    {
     "name": "stdout",
     "output_type": "stream",
     "text": [
      "Covariance: -0.8202564102564107   Unemployment rate per Child obseity (London)\n",
      "\n",
      "Correlation Coefficient: -0.6392140294143057\n",
      "Covariance: -0.7571597633136378   Unemployment rate per Child obseity (London)\n",
      "\n",
      "Correlation Coefficient: -0.6924818651988313\n"
     ]
    }
   ],
   "source": [
    "# Correlation Coefficient and Covariance of unemployment and obesity in England.\n",
    "\n",
    "x = unemployment_rate_england\n",
    "y = child_obesity_england\n",
    "\n",
    "def correlation_coefficient(x,y):\n",
    "    meanx   = np.mean(x)\n",
    "    meany   = np.mean(y)\n",
    "    sigmax  = np.std(x)\n",
    "    sigmay  = np.std(y)\n",
    "    sigmaxy = np.sum(np.multiply(x-meanx,y-meany))/(len(x)-1)\n",
    "    correlation = sigmaxy/(sigmax*sigmay)\n",
    "    return correlation\n",
    "\n",
    "def calc_covariance(unemployment_rate_england, child_obesity_england):\n",
    "    meanx   = np.mean(unemployment_rate_england)\n",
    "    meany   = np.mean(child_obesity_england)\n",
    "    mean_xy = (meanx*meany)\n",
    "    x_times_y = (unemployment_rate_england*child_obesity_england)\n",
    "    mean_of_xy = np.mean(x_times_y)\n",
    "    covariance = mean_of_xy - mean_xy\n",
    "    return covariance\n",
    "\n",
    "\n",
    "#lprint(correlation_coefficient(unemployment_rate_england,child_obesity_england))\n",
    "#lprint(calc_covariance(unemployment_rate_england,child_obesity_england))\n",
    "\n",
    "child_unemployment_covariance = np.cov(child_obesity_england,unemployment_rate_england)[1][0]\n",
    "cor_cof = np.corrcoef(unemployment_rate_england,child_obesity_england)[1][0]\n",
    "\n",
    "print(\"Covariance:\",child_unemployment_covariance,\"  Unemployment rate per Child obseity (London)\")\n",
    "print()\n",
    "print(\"Correlation Coefficient:\", cor_cof)\n",
    "\n",
    "child_unemployment_covariance4 = calc_covariance(unemployment_rate_england, child_obesity_england)\n",
    "cor_cof5 = correlation_coefficient(unemployment_rate_england,child_obesity_england)\n",
    "\n",
    "print(\"Covariance:\",child_unemployment_covariance4,\"  Unemployment rate per Child obseity (London)\")\n",
    "print()\n",
    "print(\"Correlation Coefficient:\", cor_cof5)"
   ]
  },
  {
   "cell_type": "code",
   "execution_count": 18,
   "metadata": {
    "collapsed": false
   },
   "outputs": [
    {
     "data": {
      "image/png": "[encoded data removed]",
      "text/plain": "<Figure size 864x504 with 1 Axes>"
     },
     "metadata": {
      "image/png": {
       "height": 474,
       "width": 717
      },
      "needs_background": "light"
     },
     "output_type": "execute_result"
    }
   ],
   "source": [
    "# Moving Average of Unemployment Rates (England) and Child Obesity (England).\n",
    "def moving_average(x, w):\n",
    "    return np.convolve(x, np.ones(w), 'valid') / w\n",
    "\n",
    "unemployment_rate_england = np.array(unemployment_rate_england)\n",
    "child_obesity_england = np.array(child_obesity_england)\n",
    "unemployment_rate_england_ma = moving_average(unemployment_rate_england,3)\n",
    "child_obesity_england_ma = moving_average(child_obesity_england,3)\n",
    "\n",
    "plt.figure()\n",
    "plt.plot(unemployment_rate_england_ma)\n",
    "plt.plot(child_obesity_england_ma)\n",
    "plt.plot(unemployment_rate_england_ma, marker='+',label='Unemployment Rate (England) (Moving average)',color = 'red')\n",
    "plt.plot(child_obesity_england_ma, marker='+',label='Child Obesity (England) (Moving average)',color = 'purple')\n",
    "\n",
    "plt.xlabel(\"Months of year/Dates\")\n",
    "plt.ylabel(\"Unemployment Rate (England) (Moving average)/Child Obesity (England) (Moving average)\")\n",
    "plt.title(\"Diagram comparing the Moving Average of Unemployment Rates (England) and Child Obesity Rates (England)\")\n",
    "\n",
    "\n",
    "plt.legend()\n",
    "\n",
    "plt.show()\n",
    "\n"
   ]
  }
 ],
 "metadata": {
  "kernelspec": {
   "display_name": "Python 3 (Ubuntu Linux)",
   "language": "python",
   "name": "python3-ubuntu",
   "resource_dir": "/usr/local/share/jupyter/kernels/python3-ubuntu"
  },
  "language_info": {
   "codemirror_mode": {
    "name": "ipython",
    "version": 3
   },
   "file_extension": ".py",
   "mimetype": "text/x-python",
   "name": "python",
   "nbconvert_exporter": "python",
   "pygments_lexer": "ipython3",
   "version": "3.8.10"
  }
 },
 "nbformat": 4,
 "nbformat_minor": 4
}